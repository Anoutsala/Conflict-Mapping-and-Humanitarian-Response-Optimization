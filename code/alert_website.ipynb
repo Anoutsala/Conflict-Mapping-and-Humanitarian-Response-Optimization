{
 "cells": [
  {
   "cell_type": "code",
   "execution_count": 1,
   "metadata": {},
   "outputs": [],
   "source": [
    "import streamlit as st\n",
    "import pandas as pd\n",
    "import plotly.express as px\n",
    "import smtplib\n",
    "from email.message import EmailMessage"
   ]
  },
  {
   "cell_type": "code",
   "execution_count": 3,
   "metadata": {},
   "outputs": [
    {
     "name": "stderr",
     "output_type": "stream",
     "text": [
      "2025-01-20 20:51:57.253 Thread 'MainThread': missing ScriptRunContext! This warning can be ignored when running in bare mode.\n",
      "2025-01-20 20:51:57.257 Thread 'MainThread': missing ScriptRunContext! This warning can be ignored when running in bare mode.\n",
      "2025-01-20 20:52:01.818 Thread 'MainThread': missing ScriptRunContext! This warning can be ignored when running in bare mode.\n",
      "2025-01-20 20:52:01.837 Thread 'MainThread': missing ScriptRunContext! This warning can be ignored when running in bare mode.\n",
      "2025-01-20 20:52:01.934 Thread 'MainThread': missing ScriptRunContext! This warning can be ignored when running in bare mode.\n",
      "2025-01-20 20:52:01.944 Thread 'MainThread': missing ScriptRunContext! This warning can be ignored when running in bare mode.\n",
      "2025-01-20 20:52:01.966 Thread 'MainThread': missing ScriptRunContext! This warning can be ignored when running in bare mode.\n",
      "2025-01-20 20:52:01.967 Thread 'MainThread': missing ScriptRunContext! This warning can be ignored when running in bare mode.\n",
      "2025-01-20 20:52:02.079 Thread 'MainThread': missing ScriptRunContext! This warning can be ignored when running in bare mode.\n",
      "2025-01-20 20:52:02.080 Thread 'MainThread': missing ScriptRunContext! This warning can be ignored when running in bare mode.\n",
      "2025-01-20 20:52:02.087 Thread 'MainThread': missing ScriptRunContext! This warning can be ignored when running in bare mode.\n",
      "2025-01-20 20:52:02.088 Thread 'MainThread': missing ScriptRunContext! This warning can be ignored when running in bare mode.\n",
      "2025-01-20 20:52:02.088 Session state does not function when running a script without `streamlit run`\n",
      "2025-01-20 20:52:02.091 Thread 'MainThread': missing ScriptRunContext! This warning can be ignored when running in bare mode.\n",
      "2025-01-20 20:52:02.092 Thread 'MainThread': missing ScriptRunContext! This warning can be ignored when running in bare mode.\n",
      "2025-01-20 20:52:02.093 Thread 'MainThread': missing ScriptRunContext! This warning can be ignored when running in bare mode.\n",
      "2025-01-20 20:52:02.093 Thread 'MainThread': missing ScriptRunContext! This warning can be ignored when running in bare mode.\n",
      "2025-01-20 20:52:02.094 Thread 'MainThread': missing ScriptRunContext! This warning can be ignored when running in bare mode.\n",
      "2025-01-20 20:52:02.094 Thread 'MainThread': missing ScriptRunContext! This warning can be ignored when running in bare mode.\n",
      "2025-01-20 20:52:02.095 Thread 'MainThread': missing ScriptRunContext! This warning can be ignored when running in bare mode.\n",
      "2025-01-20 20:52:02.096 Thread 'MainThread': missing ScriptRunContext! This warning can be ignored when running in bare mode.\n",
      "2025-01-20 20:52:02.097 Thread 'MainThread': missing ScriptRunContext! This warning can be ignored when running in bare mode.\n",
      "2025-01-20 20:52:02.098 Thread 'MainThread': missing ScriptRunContext! This warning can be ignored when running in bare mode.\n",
      "2025-01-20 20:52:02.100 Thread 'MainThread': missing ScriptRunContext! This warning can be ignored when running in bare mode.\n",
      "2025-01-20 20:52:02.101 Thread 'MainThread': missing ScriptRunContext! This warning can be ignored when running in bare mode.\n",
      "2025-01-20 20:52:02.103 Thread 'MainThread': missing ScriptRunContext! This warning can be ignored when running in bare mode.\n"
     ]
    }
   ],
   "source": [
    "data = pd.read_csv(\"/Users/anoutsala/Documents/datathon_2024/records.csv\")\n",
    "\n",
    "st.title(\"Conflict Zones and Safe Areas\")\n",
    "\n",
    "# Interactive Map\n",
    "fig = px.scatter_mapbox(\n",
    "    data,\n",
    "    lat=\"latitude\",\n",
    "    lon=\"longitude\",\n",
    "    color=\"fatalities_binned\", \n",
    "    hover_name=\"location\",\n",
    "    zoom=3,\n",
    "    height=500,\n",
    "    mapbox_style=\"carto-positron\",\n",
    ")\n",
    "st.plotly_chart(fig)\n",
    "\n",
    "# User Preferences\n",
    "st.subheader(\"Set Your Preferences\")\n",
    "region = st.selectbox(\"Select Region of Interest\", data[\"region\"].unique())\n",
    "email = st.text_input(\"Enter Your Email for Alerts\")\n",
    "\n",
    "if st.button(\"Subscribe\"):\n",
    "    st.success(f\"Subscribed to alerts for {region}. Notifications will be sent to {email}.\")"
   ]
  },
  {
   "cell_type": "code",
   "execution_count": 4,
   "metadata": {},
   "outputs": [
    {
     "name": "stderr",
     "output_type": "stream",
     "text": [
      "2025-01-20 20:53:13.482 Thread 'MainThread': missing ScriptRunContext! This warning can be ignored when running in bare mode.\n",
      "2025-01-20 20:53:13.484 Thread 'MainThread': missing ScriptRunContext! This warning can be ignored when running in bare mode.\n",
      "2025-01-20 20:53:13.485 Thread 'MainThread': missing ScriptRunContext! This warning can be ignored when running in bare mode.\n",
      "2025-01-20 20:53:13.486 Thread 'MainThread': missing ScriptRunContext! This warning can be ignored when running in bare mode.\n",
      "2025-01-20 20:53:13.486 Thread 'MainThread': missing ScriptRunContext! This warning can be ignored when running in bare mode.\n"
     ]
    }
   ],
   "source": [
    "def send_email(to_email, region):\n",
    "    msg = EmailMessage()\n",
    "    msg[\"Subject\"] = f\"Conflict Alert: {region}\"\n",
    "    msg[\"From\"] = \"your-email@example.com\"\n",
    "    msg[\"To\"] = to_email\n",
    "    msg.set_content(f\"Conflict detected in {region}. Stay safe!\")\n",
    "\n",
    "    with smtplib.SMTP(\"smtp.sendgrid.net\", 587) as server:\n",
    "        server.login(\"apikey\", \"your-sendgrid-api-key\")\n",
    "        server.send_message(msg)\n",
    "\n",
    "if st.button(\"Subscribe\"):\n",
    "    send_email(email, region)\n",
    "    st.success(f\"Subscribed to alerts for {region}. Notifications will be sent to {email}.\")"
   ]
  },
  {
   "cell_type": "code",
   "execution_count": null,
   "metadata": {},
   "outputs": [],
   "source": []
  }
 ],
 "metadata": {
  "kernelspec": {
   "display_name": "Python 3.10.16 ('base')",
   "language": "python",
   "name": "python3"
  },
  "language_info": {
   "codemirror_mode": {
    "name": "ipython",
    "version": 3
   },
   "file_extension": ".py",
   "mimetype": "text/x-python",
   "name": "python",
   "nbconvert_exporter": "python",
   "pygments_lexer": "ipython3",
   "version": "3.10.16"
  },
  "orig_nbformat": 4,
  "vscode": {
   "interpreter": {
    "hash": "40d3a090f54c6569ab1632332b64b2c03c39dcf918b08424e98f38b5ae0af88f"
   }
  }
 },
 "nbformat": 4,
 "nbformat_minor": 2
}
